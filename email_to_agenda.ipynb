{
  "nbformat": 4,
  "nbformat_minor": 0,
  "metadata": {
    "colab": {
      "provenance": [],
      "authorship_tag": "ABX9TyM72hVdkWlRZylppNtJ8PLj",
      "include_colab_link": true
    },
    "kernelspec": {
      "name": "python3",
      "display_name": "Python 3"
    },
    "language_info": {
      "name": "python"
    }
  },
  "cells": [
    {
      "cell_type": "markdown",
      "metadata": {
        "id": "view-in-github",
        "colab_type": "text"
      },
      "source": [
        "<a href=\"https://colab.research.google.com/github/chinhegde/Schedulize-Email-to-Calendar-Converter/blob/main/email_to_agenda.ipynb\" target=\"_parent\"><img src=\"https://colab.research.google.com/assets/colab-badge.svg\" alt=\"Open In Colab\"/></a>"
      ]
    },
    {
      "cell_type": "code",
      "source": [
        "! pip install simplegmail\n",
        "! pip install icalendar\n",
        "! pip install -q -U google-generativeai"
      ],
      "metadata": {
        "colab": {
          "base_uri": "https://localhost:8080/"
        },
        "id": "O4GagpldEFJ9",
        "outputId": "6bc41d51-8d1b-4f58-d568-9c6bd2cc0af2"
      },
      "execution_count": null,
      "outputs": [
        {
          "output_type": "stream",
          "name": "stdout",
          "text": [
            "Collecting simplegmail\n",
            "  Downloading simplegmail-4.1.1-py3-none-any.whl (19 kB)\n",
            "Requirement already satisfied: google-api-python-client>=1.7.3 in /usr/local/lib/python3.10/dist-packages (from simplegmail) (2.84.0)\n",
            "Requirement already satisfied: beautifulsoup4>=4.0.0 in /usr/local/lib/python3.10/dist-packages (from simplegmail) (4.12.3)\n",
            "Requirement already satisfied: python-dateutil>=2.8.1 in /usr/local/lib/python3.10/dist-packages (from simplegmail) (2.8.2)\n",
            "Requirement already satisfied: oauth2client>=4.1.3 in /usr/local/lib/python3.10/dist-packages (from simplegmail) (4.1.3)\n",
            "Requirement already satisfied: lxml>=4.4.2 in /usr/local/lib/python3.10/dist-packages (from simplegmail) (4.9.4)\n",
            "Requirement already satisfied: soupsieve>1.2 in /usr/local/lib/python3.10/dist-packages (from beautifulsoup4>=4.0.0->simplegmail) (2.5)\n",
            "Requirement already satisfied: httplib2<1dev,>=0.15.0 in /usr/local/lib/python3.10/dist-packages (from google-api-python-client>=1.7.3->simplegmail) (0.22.0)\n",
            "Requirement already satisfied: google-auth<3.0.0dev,>=1.19.0 in /usr/local/lib/python3.10/dist-packages (from google-api-python-client>=1.7.3->simplegmail) (2.27.0)\n",
            "Requirement already satisfied: google-auth-httplib2>=0.1.0 in /usr/local/lib/python3.10/dist-packages (from google-api-python-client>=1.7.3->simplegmail) (0.1.1)\n",
            "Requirement already satisfied: google-api-core!=2.0.*,!=2.1.*,!=2.2.*,!=2.3.0,<3.0.0dev,>=1.31.5 in /usr/local/lib/python3.10/dist-packages (from google-api-python-client>=1.7.3->simplegmail) (2.11.1)\n",
            "Requirement already satisfied: uritemplate<5,>=3.0.1 in /usr/local/lib/python3.10/dist-packages (from google-api-python-client>=1.7.3->simplegmail) (4.1.1)\n",
            "Requirement already satisfied: pyasn1>=0.1.7 in /usr/local/lib/python3.10/dist-packages (from oauth2client>=4.1.3->simplegmail) (0.6.0)\n",
            "Requirement already satisfied: pyasn1-modules>=0.0.5 in /usr/local/lib/python3.10/dist-packages (from oauth2client>=4.1.3->simplegmail) (0.4.0)\n",
            "Requirement already satisfied: rsa>=3.1.4 in /usr/local/lib/python3.10/dist-packages (from oauth2client>=4.1.3->simplegmail) (4.9)\n",
            "Requirement already satisfied: six>=1.6.1 in /usr/local/lib/python3.10/dist-packages (from oauth2client>=4.1.3->simplegmail) (1.16.0)\n",
            "Requirement already satisfied: googleapis-common-protos<2.0.dev0,>=1.56.2 in /usr/local/lib/python3.10/dist-packages (from google-api-core!=2.0.*,!=2.1.*,!=2.2.*,!=2.3.0,<3.0.0dev,>=1.31.5->google-api-python-client>=1.7.3->simplegmail) (1.63.0)\n",
            "Requirement already satisfied: protobuf!=3.20.0,!=3.20.1,!=4.21.0,!=4.21.1,!=4.21.2,!=4.21.3,!=4.21.4,!=4.21.5,<5.0.0.dev0,>=3.19.5 in /usr/local/lib/python3.10/dist-packages (from google-api-core!=2.0.*,!=2.1.*,!=2.2.*,!=2.3.0,<3.0.0dev,>=1.31.5->google-api-python-client>=1.7.3->simplegmail) (3.20.3)\n",
            "Requirement already satisfied: requests<3.0.0.dev0,>=2.18.0 in /usr/local/lib/python3.10/dist-packages (from google-api-core!=2.0.*,!=2.1.*,!=2.2.*,!=2.3.0,<3.0.0dev,>=1.31.5->google-api-python-client>=1.7.3->simplegmail) (2.31.0)\n",
            "Requirement already satisfied: cachetools<6.0,>=2.0.0 in /usr/local/lib/python3.10/dist-packages (from google-auth<3.0.0dev,>=1.19.0->google-api-python-client>=1.7.3->simplegmail) (5.3.3)\n",
            "Requirement already satisfied: pyparsing!=3.0.0,!=3.0.1,!=3.0.2,!=3.0.3,<4,>=2.4.2 in /usr/local/lib/python3.10/dist-packages (from httplib2<1dev,>=0.15.0->google-api-python-client>=1.7.3->simplegmail) (3.1.2)\n",
            "Requirement already satisfied: charset-normalizer<4,>=2 in /usr/local/lib/python3.10/dist-packages (from requests<3.0.0.dev0,>=2.18.0->google-api-core!=2.0.*,!=2.1.*,!=2.2.*,!=2.3.0,<3.0.0dev,>=1.31.5->google-api-python-client>=1.7.3->simplegmail) (3.3.2)\n",
            "Requirement already satisfied: idna<4,>=2.5 in /usr/local/lib/python3.10/dist-packages (from requests<3.0.0.dev0,>=2.18.0->google-api-core!=2.0.*,!=2.1.*,!=2.2.*,!=2.3.0,<3.0.0dev,>=1.31.5->google-api-python-client>=1.7.3->simplegmail) (3.7)\n",
            "Requirement already satisfied: urllib3<3,>=1.21.1 in /usr/local/lib/python3.10/dist-packages (from requests<3.0.0.dev0,>=2.18.0->google-api-core!=2.0.*,!=2.1.*,!=2.2.*,!=2.3.0,<3.0.0dev,>=1.31.5->google-api-python-client>=1.7.3->simplegmail) (2.0.7)\n",
            "Requirement already satisfied: certifi>=2017.4.17 in /usr/local/lib/python3.10/dist-packages (from requests<3.0.0.dev0,>=2.18.0->google-api-core!=2.0.*,!=2.1.*,!=2.2.*,!=2.3.0,<3.0.0dev,>=1.31.5->google-api-python-client>=1.7.3->simplegmail) (2024.2.2)\n",
            "Installing collected packages: simplegmail\n",
            "Successfully installed simplegmail-4.1.1\n",
            "Collecting icalendar\n",
            "  Downloading icalendar-5.0.12-py3-none-any.whl (116 kB)\n",
            "\u001b[2K     \u001b[90m━━━━━━━━━━━━━━━━━━━━━━━━━━━━━━━━━━━━━━━━\u001b[0m \u001b[32m116.3/116.3 kB\u001b[0m \u001b[31m3.3 MB/s\u001b[0m eta \u001b[36m0:00:00\u001b[0m\n",
            "\u001b[?25hRequirement already satisfied: python-dateutil in /usr/local/lib/python3.10/dist-packages (from icalendar) (2.8.2)\n",
            "Requirement already satisfied: pytz in /usr/local/lib/python3.10/dist-packages (from icalendar) (2023.4)\n",
            "Requirement already satisfied: six>=1.5 in /usr/local/lib/python3.10/dist-packages (from python-dateutil->icalendar) (1.16.0)\n",
            "Installing collected packages: icalendar\n",
            "Successfully installed icalendar-5.0.12\n",
            "\u001b[2K     \u001b[90m━━━━━━━━━━━━━━━━━━━━━━━━━━━━━━━━━━━━━━━━\u001b[0m \u001b[32m158.8/158.8 kB\u001b[0m \u001b[31m4.2 MB/s\u001b[0m eta \u001b[36m0:00:00\u001b[0m\n",
            "\u001b[?25h"
          ]
        }
      ]
    },
    {
      "cell_type": "code",
      "source": [
        "from simplegmail import Gmail\n",
        "\n",
        "from icalendar import Calendar, Event\n",
        "from datetime import datetime\n",
        "import time\n",
        "\n",
        "import json\n",
        "from google.colab import userdata\n",
        "import google.generativeai as genai\n",
        "\n",
        "import logging"
      ],
      "metadata": {
        "id": "P_YmMeyrEBjd"
      },
      "execution_count": null,
      "outputs": []
    },
    {
      "cell_type": "code",
      "source": [
        "logging.basicConfig(level=logging.INFO, format='%(asctime)s - %(levelname)s - %(message)s',\n",
        "                    filename='app.log', filemode='a')"
      ],
      "metadata": {
        "id": "yJ1SJkFyJbpT"
      },
      "execution_count": null,
      "outputs": []
    },
    {
      "cell_type": "code",
      "source": [
        "try:\n",
        "  gmail = Gmail()\n",
        "  logging.info(\"Connected to GMail through simplegmail.\")\n",
        "\n",
        "except Exception as e:\n",
        "  logging.error(\"Failed to initialize Gmail: %s\", e)"
      ],
      "metadata": {
        "id": "jof7-nugEMS-"
      },
      "execution_count": null,
      "outputs": []
    },
    {
      "cell_type": "code",
      "source": [
        "try:\n",
        "\n",
        "  GEMINI_API_KEY=userdata.get('GOOGLE_API_KEY')\n",
        "  genai.configure(api_key=GEMINI_API_KEY)\n",
        "\n",
        "  logging.info(\"Configured genai with GEMINI_API_KEY successfully.\")\n",
        "\n",
        "except Exception as e:\n",
        "  logging.error(\"Failed to configure genai: %s\", e)"
      ],
      "metadata": {
        "id": "xOR9V38vYIE1"
      },
      "execution_count": null,
      "outputs": []
    },
    {
      "cell_type": "code",
      "source": [
        "def read_emails():\n",
        "\n",
        "  try:\n",
        "    messages = gmail.get_unread_inbox()\n",
        "    logging.info(\"%d unread emails found.\", len(messages))\n",
        "\n",
        "    return messages\n",
        "\n",
        "  except Exception as e:\n",
        "    logging.error(\"Failed to initialize Gmail: %s\", e)\n"
      ],
      "metadata": {
        "id": "Ld8zpftBJMCI"
      },
      "execution_count": null,
      "outputs": []
    },
    {
      "cell_type": "code",
      "source": [
        "model = genai.GenerativeModel('gemini-1.5-flash')"
      ],
      "metadata": {
        "id": "Q2EmsnNu2S2g"
      },
      "execution_count": null,
      "outputs": []
    },
    {
      "cell_type": "code",
      "source": [
        "def extract_event_details(message_body):\n",
        "\n",
        "  today = datetime.today().strftime(\"%m/%d/%Y\")\n",
        "\n",
        "  context = \"\"\"Given the body an email - If the email mentions an event or provides an agenda, return a json format output - with event title, description, start and end dates (MM/DD/YYYY), start_time (HH:MM:SS), end_time (HH:MM:SS).\n",
        "  Make sure that all the events mentioned in the body of the email are there in the JSON file. Alternatively, if there are no events or meetings mentioned in the email, return the string (not JSON) \"NO_EVENTS_FOUND\".\n",
        "  - If time is mentioned relative to current day (example: today, tomorrow, etc.), use \"\"\" + today + \"\"\"as today's date (MM/DD/YYYY).\n",
        "  - If the end time is not provided, assume that the event is 30 minutes long only.\n",
        "  - If no start or end times are mentioned (Example: Can we meet tomorrow? OR Event is day after tomorrow), set the time as 10 AM on the provided date.\n",
        "  \"\"\"\n",
        "\n",
        "  user_input = message_body\n",
        "\n",
        "  response = model.generate_content(\"System: \" + context + \"\\nUser: \" + user_input)\n",
        "\n",
        "  # print(response.text)\n",
        "\n",
        "  if response.text.strip() == '\"NO_EVENTS_FOUND\"':\n",
        "    return\n",
        "\n",
        "  events_data = json.loads(response.text[8:-4])\n",
        "\n",
        "  return events_data\n"
      ],
      "metadata": {
        "id": "kJNDix4UJ91w"
      },
      "execution_count": null,
      "outputs": []
    },
    {
      "cell_type": "code",
      "source": [
        "unread_emails = read_emails()"
      ],
      "metadata": {
        "id": "hL6xSrWsTrpp",
        "colab": {
          "base_uri": "https://localhost:8080/"
        },
        "outputId": "d5092fa9-e74f-47c7-fe53-941fbcf0d6d6"
      },
      "execution_count": null,
      "outputs": [
        {
          "output_type": "execute_result",
          "data": {
            "text/plain": [
              "4"
            ]
          },
          "metadata": {},
          "execution_count": 14
        }
      ]
    },
    {
      "cell_type": "code",
      "source": [
        "events_out = list()"
      ],
      "metadata": {
        "id": "5J34ReGl0ZWD"
      },
      "execution_count": null,
      "outputs": []
    },
    {
      "cell_type": "code",
      "source": [
        "for email in unread_emails:\n",
        "\n",
        "  time.sleep(5)\n",
        "\n",
        "  print(\"Subject: \" + email.subject)\n",
        "  event = extract_event_details(email.plain)\n",
        "  if event:\n",
        "    events_out.append([email, event])\n",
        "  else:\n",
        "    continue"
      ],
      "metadata": {
        "colab": {
          "base_uri": "https://localhost:8080/",
          "height": 156
        },
        "id": "OTBjHQSgT34z",
        "outputId": "f8981abc-8f40-452f-bcc1-6459e11af2a7"
      },
      "execution_count": null,
      "outputs": [
        {
          "output_type": "stream",
          "name": "stdout",
          "text": [
            "Subject: Annual Day Function Invitation - June 7th\n",
            "** DEBUG 1 **\n",
            "Subject: MIT Class of 2014 Reunion Events\n",
            "** DEBUG 1 **\n",
            "Subject: Invitation to High School Reunion on June 7th\n",
            "** DEBUG 1 **\n",
            "Subject: Coffee Chat on June 4th at 10:30 AM?\n",
            "** DEBUG 1 **\n"
          ]
        }
      ]
    },
    {
      "cell_type": "code",
      "source": [
        "def create_calendar_event(events_list):\n",
        "\n",
        "  cal = Calendar()\n",
        "  event = Event()\n",
        "\n",
        "  for e in events_list:\n",
        "\n",
        "    try:\n",
        "      e['event_title']\n",
        "    except:\n",
        "      return\n",
        "\n",
        "    start_datetime_str = f\"{e['start_date']} {e['start_time']}\"\n",
        "    start_datetime = datetime.strptime(start_datetime_str, \"%m/%d/%Y %H:%M:%S\")\n",
        "\n",
        "    end_datetime_str = f\"{e['end_date']} {e['end_time']}\"\n",
        "    end_datetime = datetime.strptime(end_datetime_str, \"%m/%d/%Y %H:%M:%S\")\n",
        "\n",
        "    event.add('summary', e['event_title'])\n",
        "    event.add('description', e['description'])\n",
        "    event.add('dtstart', start_datetime)\n",
        "    event.add('dtend', end_datetime)\n",
        "    cal.add_component(event)\n",
        "\n",
        "    return cal.to_ical()"
      ],
      "metadata": {
        "id": "diZgOjgo6rU4"
      },
      "execution_count": null,
      "outputs": []
    },
    {
      "cell_type": "code",
      "source": [
        "for info , events_list in events[:1]:\n",
        "\n",
        "  # print(\">>>>>\", info.subject)\n",
        "\n",
        "  cal_event = create_calendar_event(events_list)\n",
        "\n",
        "  if cal_event:\n",
        "    # print(\"Event exists.\")\n",
        "\n",
        "    with open('event.ics', 'wb') as f:\n",
        "      f.write(cal_event)\n",
        "\n",
        "    params = {\n",
        "    \"to\": info.recipient,\n",
        "    \"sender\": \"chinmayi13hegde@gmail.com\",\n",
        "    \"cc\": [info.sender],\n",
        "    \"subject\": \"Calendar Invite: \" + info.subject,\n",
        "    \"msg_html\": \"Calendar Invite\",\n",
        "    \"msg_plain\": \"Hello,\\nThis is an automated message to send a calendar invitation for the agenda specified in your email titled: \" + info.subject,\n",
        "    \"attachments\": [\"/content/event.ics\"],\n",
        "    \"signature\": False  # use my account signature\n",
        "    }\n",
        "\n",
        "    message = gmail.send_message(**params)"
      ],
      "metadata": {
        "colab": {
          "base_uri": "https://localhost:8080/"
        },
        "id": "le5yADy5byub",
        "outputId": "3bbee078-bb34-451f-f8d9-1696f7c1d574"
      },
      "execution_count": null,
      "outputs": [
        {
          "output_type": "stream",
          "name": "stdout",
          "text": [
            ">>>>> Annual Day Function Invitation - June 7th\n",
            "Event exists.\n"
          ]
        }
      ]
    }
  ]
}